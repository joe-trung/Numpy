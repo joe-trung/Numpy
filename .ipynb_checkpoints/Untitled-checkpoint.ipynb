{
 "cells": [
  {
   "cell_type": "code",
   "execution_count": 57,
   "id": "146586a8",
   "metadata": {},
   "outputs": [],
   "source": [
    "import numpy as np\n",
    "import json\n"
   ]
  },
  {
   "cell_type": "code",
   "execution_count": 58,
   "id": "28070ae9",
   "metadata": {},
   "outputs": [],
   "source": [
    "with open('./data.json', 'r', encoding='utf-8') as f:\n",
    "    bmi_data = json.loads(f.read())\n",
    "    \n",
    "with open('./efficiency_data.json', 'r', encoding='utf-8') as f:\n",
    "    stats_data = json.loads(f.read())"
   ]
  },
  {
   "cell_type": "code",
   "execution_count": 59,
   "id": "f95771a7",
   "metadata": {},
   "outputs": [],
   "source": [
    "lakers_height = [value for data in bmi_data['Lakers'] for key, value in data.items() if key==\"Height\"]\n",
    "lakers_weight = [value for data in bmi_data['Lakers'] for key, value in data.items() if key==\"Weight\"]"
   ]
  },
  {
   "cell_type": "code",
   "execution_count": 60,
   "id": "2326bc6b",
   "metadata": {},
   "outputs": [],
   "source": [
    "pts = [value for data in stats_data['Lakers'] for key, value in data.items() if key=='PTS']\n",
    "reb = [value for data in stats_data['Lakers'] for key, value in data.items() if key=='REB']\n",
    "ast = [value for data in stats_data['Lakers'] for key, value in data.items() if key=='AST']\n",
    "stl = [value for data in stats_data['Lakers'] for key, value in data.items() if key=='STL']\n",
    "blk = [value for data in stats_data['Lakers'] for key, value in data.items() if key=='BLK']\n",
    "mfg = [value for data in stats_data['Lakers'] for key, value in data.items() if key=='FMG']\n",
    "mft = [value for data in stats_data['Lakers'] for key, value in data.items() if key=='FTM']\n",
    "tov = [value for data in stats_data['Lakers'] for key, value in data.items() if key=='TO']"
   ]
  },
  {
   "cell_type": "code",
   "execution_count": 61,
   "id": "46a0881b",
   "metadata": {},
   "outputs": [],
   "source": [
    "lakers_height_array = np.array(lakers_height)\n",
    "lakers_weight_array = np.array(lakers_weight)\n",
    "pts_array = np.array(pts)\n",
    "reb_array = np.array(reb)\n",
    "ast_array = np.array(ast)\n",
    "stl_array = np.array(stl)\n",
    "blk_array = np.array(blk)\n",
    "mfg_array = np.array(mfg)\n",
    "mft_array = np.array(mft)\n",
    "tow_array = np.array(tov)"
   ]
  },
  {
   "cell_type": "code",
   "execution_count": 62,
   "id": "ba93222f",
   "metadata": {},
   "outputs": [
    {
     "name": "stdout",
     "output_type": "stream",
     "text": [
      "[[1 1 1]\n",
      " [1 1 1]]\n"
     ]
    }
   ],
   "source": [
    "example_2d = [[1,1,1],[1,1,1]]\n",
    "print(np.array(example_2d))"
   ]
  },
  {
   "cell_type": "code",
   "execution_count": 63,
   "id": "6208318c",
   "metadata": {},
   "outputs": [],
   "source": [
    "#convert to kg\n",
    "lakers_weight_kg = lakers_weight_array * 0.454"
   ]
  },
  {
   "cell_type": "code",
   "execution_count": 64,
   "id": "37eed997",
   "metadata": {},
   "outputs": [],
   "source": [
    "#convert to cm\n",
    "lakers_height_cm = lakers_height_array * 2.54"
   ]
  },
  {
   "cell_type": "code",
   "execution_count": 65,
   "id": "908b86c7",
   "metadata": {},
   "outputs": [],
   "source": [
    "#BMI\n",
    "def BMI_calculator(system,weight,height):\n",
    "    if system=='imperial':\n",
    "        BMI = weight/(height**2)*703\n",
    "    elif system=='metric':\n",
    "        BMI= weight/(height**2)*10000\n",
    "    return BMI"
   ]
  },
  {
   "cell_type": "code",
   "execution_count": 66,
   "id": "8ec48913",
   "metadata": {},
   "outputs": [
    {
     "data": {
      "text/plain": [
       "array([23.74554325, 24.82894737, 24.8430309 , 26.78707514, 26.45136823])"
      ]
     },
     "execution_count": 66,
     "metadata": {},
     "output_type": "execute_result"
    }
   ],
   "source": [
    "BMI_calculator('imperial',lakers_weight_array,lakers_height_array)"
   ]
  },
  {
   "cell_type": "code",
   "execution_count": 67,
   "id": "b25c784a",
   "metadata": {},
   "outputs": [
    {
     "data": {
      "text/plain": [
       "array([23.769235  , 24.85372007, 24.86781765, 26.81380153, 26.47775968])"
      ]
     },
     "execution_count": 67,
     "metadata": {},
     "output_type": "execute_result"
    }
   ],
   "source": [
    "BMI_calculator('metric', lakers_weight_kg, lakers_height_cm)"
   ]
  },
  {
   "cell_type": "code",
   "execution_count": 68,
   "id": "b5713bd0",
   "metadata": {},
   "outputs": [
    {
     "ename": "ValueError",
     "evalue": "operands could not be broadcast together with shapes (0,) (5,) ",
     "output_type": "error",
     "traceback": [
      "\u001b[1;31m---------------------------------------------------------------------------\u001b[0m",
      "\u001b[1;31mValueError\u001b[0m                                Traceback (most recent call last)",
      "Cell \u001b[1;32mIn[68], line 2\u001b[0m\n\u001b[0;32m      1\u001b[0m \u001b[38;5;66;03m#calculating efficiency\u001b[39;00m\n\u001b[1;32m----> 2\u001b[0m lakers_players_efficiency \u001b[38;5;241m=\u001b[39m (pts_array \u001b[38;5;241m+\u001b[39m reb_array \u001b[38;5;241m+\u001b[39m ast_array \u001b[38;5;241m+\u001b[39m stl_array \u001b[38;5;241m+\u001b[39m blk_array) \u001b[38;5;241m-\u001b[39m (\u001b[43mmfg_array\u001b[49m\u001b[43m \u001b[49m\u001b[38;5;241;43m+\u001b[39;49m\u001b[43m \u001b[49m\u001b[43mmft_array\u001b[49m)\n",
      "\u001b[1;31mValueError\u001b[0m: operands could not be broadcast together with shapes (0,) (5,) "
     ]
    }
   ],
   "source": [
    "#calculating efficiency\n",
    "lakers_players_efficiency = (pts_array + reb_array + ast_array + stl_array + blk_array) - (mfg_array + mft_array)"
   ]
  },
  {
   "cell_type": "code",
   "execution_count": null,
   "id": "44208269",
   "metadata": {},
   "outputs": [],
   "source": []
  },
  {
   "cell_type": "code",
   "execution_count": null,
   "id": "a7850e9a",
   "metadata": {},
   "outputs": [],
   "source": []
  },
  {
   "cell_type": "code",
   "execution_count": 69,
   "id": "06861e17",
   "metadata": {},
   "outputs": [
    {
     "data": {
      "text/plain": [
       "390"
      ]
     },
     "execution_count": 69,
     "metadata": {},
     "output_type": "execute_result"
    }
   ],
   "source": [
    "#aggregate functions\n",
    "\n",
    "lakers_height_array.sum()"
   ]
  },
  {
   "cell_type": "code",
   "execution_count": 70,
   "id": "4d1b4f9c",
   "metadata": {},
   "outputs": [
    {
     "data": {
      "text/plain": [
       "1102"
      ]
     },
     "execution_count": 70,
     "metadata": {},
     "output_type": "execute_result"
    }
   ],
   "source": [
    "lakers_weight_array.sum()"
   ]
  },
  {
   "cell_type": "code",
   "execution_count": 71,
   "id": "f07d92b0",
   "metadata": {},
   "outputs": [
    {
     "data": {
      "text/plain": [
       "78.0"
      ]
     },
     "execution_count": 71,
     "metadata": {},
     "output_type": "execute_result"
    }
   ],
   "source": [
    "lakers_height_array.mean()"
   ]
  },
  {
   "cell_type": "code",
   "execution_count": 72,
   "id": "7345d5b0",
   "metadata": {},
   "outputs": [
    {
     "data": {
      "text/plain": [
       "220.4"
      ]
     },
     "execution_count": 72,
     "metadata": {},
     "output_type": "execute_result"
    }
   ],
   "source": [
    "lakers_weight_array.mean()"
   ]
  },
  {
   "cell_type": "code",
   "execution_count": 74,
   "id": "5844afe9",
   "metadata": {},
   "outputs": [
    {
     "data": {
      "text/plain": [
       "73"
      ]
     },
     "execution_count": 74,
     "metadata": {},
     "output_type": "execute_result"
    }
   ],
   "source": [
    "lakers_height_array.min()"
   ]
  },
  {
   "cell_type": "code",
   "execution_count": 75,
   "id": "2bb9cd5b",
   "metadata": {},
   "outputs": [
    {
     "data": {
      "text/plain": [
       "82"
      ]
     },
     "execution_count": 75,
     "metadata": {},
     "output_type": "execute_result"
    }
   ],
   "source": [
    "lakers_height_array.max()"
   ]
  },
  {
   "cell_type": "code",
   "execution_count": 76,
   "id": "ada5b2e7",
   "metadata": {},
   "outputs": [
    {
     "data": {
      "text/plain": [
       "180"
      ]
     },
     "execution_count": 76,
     "metadata": {},
     "output_type": "execute_result"
    }
   ],
   "source": [
    "lakers_weight_array.min()"
   ]
  },
  {
   "cell_type": "code",
   "execution_count": 77,
   "id": "f9b83211",
   "metadata": {},
   "outputs": [
    {
     "data": {
      "text/plain": [
       "253"
      ]
     },
     "execution_count": 77,
     "metadata": {},
     "output_type": "execute_result"
    }
   ],
   "source": [
    "lakers_weight_array.max()"
   ]
  },
  {
   "cell_type": "code",
   "execution_count": 78,
   "id": "767b5b52",
   "metadata": {},
   "outputs": [
    {
     "data": {
      "text/plain": [
       "3.286335345030997"
      ]
     },
     "execution_count": 78,
     "metadata": {},
     "output_type": "execute_result"
    }
   ],
   "source": [
    "lakers_height_array.std()"
   ]
  },
  {
   "cell_type": "code",
   "execution_count": 79,
   "id": "a98576dd",
   "metadata": {},
   "outputs": [
    {
     "data": {
      "text/plain": [
       "27.817979797246238"
      ]
     },
     "execution_count": 79,
     "metadata": {},
     "output_type": "execute_result"
    }
   ],
   "source": [
    "lakers_weight_array.std()"
   ]
  },
  {
   "cell_type": "code",
   "execution_count": 84,
   "id": "90264bab",
   "metadata": {},
   "outputs": [
    {
     "data": {
      "text/plain": [
       "78.0"
      ]
     },
     "execution_count": 84,
     "metadata": {},
     "output_type": "execute_result"
    }
   ],
   "source": [
    "np.percentile(lakers_height_array,50)"
   ]
  },
  {
   "cell_type": "code",
   "execution_count": null,
   "id": "96d7870a",
   "metadata": {},
   "outputs": [],
   "source": []
  }
 ],
 "metadata": {
  "kernelspec": {
   "display_name": "Python 3 (ipykernel)",
   "language": "python",
   "name": "python3"
  },
  "language_info": {
   "codemirror_mode": {
    "name": "ipython",
    "version": 3
   },
   "file_extension": ".py",
   "mimetype": "text/x-python",
   "name": "python",
   "nbconvert_exporter": "python",
   "pygments_lexer": "ipython3",
   "version": "3.10.11"
  }
 },
 "nbformat": 4,
 "nbformat_minor": 5
}
